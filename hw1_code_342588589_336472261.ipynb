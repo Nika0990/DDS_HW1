{
 "cells": [
  {
   "cell_type": "code",
   "execution_count": 5,
   "outputs": [
    {
     "name": "stdout",
     "output_type": "stream",
     "text": [
      "Collecting mrjob\n",
      "  Using cached mrjob-0.7.4-py2.py3-none-any.whl (439 kB)\n",
      "Requirement already satisfied: PyYAML>=3.10 in c:\\users\\snika\\pycharmprojects\\dds_hw1\\venv\\lib\\site-packages (from mrjob) (6.0)\n",
      "Installing collected packages: mrjob\n",
      "Successfully installed mrjob-0.7.4\n"
     ]
    },
    {
     "name": "stderr",
     "output_type": "stream",
     "text": [
      "WARNING: You are using pip version 21.3.1; however, version 23.1.2 is available.\n",
      "You should consider upgrading via the 'C:\\Users\\snika\\PycharmProjects\\DDS_HW1\\venv\\Scripts\\python.exe -m pip install --upgrade pip' command.\n"
     ]
    }
   ],
   "source": [
    "!pip install mrjob"
   ],
   "metadata": {
    "collapsed": false
   }
  },
  {
   "cell_type": "code",
   "execution_count": 197,
   "outputs": [
    {
     "name": "stdout",
     "output_type": "stream",
     "text": [
      "Overwriting hw1_mr_336472261_342588589.py\n"
     ]
    }
   ],
   "source": [
    "%%file hw1_mr_336472261_342588589.py\n",
    "\n",
    "from mrjob.job import MRJob\n",
    "from mrjob.step import MRStep\n",
    "import re\n",
    "import shlex\n",
    "\n",
    "\n",
    "class MorningProgramms(MRJob):\n",
    "    def mapper(self, _, line):\n",
    "        if line.startswith('prog_code'):\n",
    "                return\n",
    "        result = re.findall(r'(?:[^,\"\\\\\\\\]|\\\\\\\\.|\"(?:\\\\.|[^\"])*\")+', line)\n",
    "        result = [re.sub(r'^\"|\"$|\\\\\\\\(.)', lambda m: m.group(1) or '', element) for element in result]\n",
    "        if 70000 <= int(result[4]) < 90000:\n",
    "            if ('Talk' in result[2] ) or ('Politics' in result[2]) or ('Spanish' in result[2]) or ('Community' in result[2]) \\\n",
    "                    or ('Martial arts' in result[2]):\n",
    "                if ('j' in str(result[1]).lower()) or ('q'in str(result[1]).lower() )or ('z' in str(result[1].lower())):\n",
    "                    yield (result[1], result[2]), result[3]\n",
    "\n",
    "    def reducer(self, key, val):\n",
    "        dates = set([])\n",
    "        keys = list(key)\n",
    "        genres = keys[1].split(\",\")\n",
    "        for d in val:\n",
    "            dates.add(d)\n",
    "        yield key,(len(dates) , len(genres))\n",
    "\n",
    "if __name__ == '__main__':\n",
    "    MorningProgramms.run()"
   ],
   "metadata": {
    "collapsed": false
   }
  },
  {
   "cell_type": "code",
   "execution_count": 199,
   "outputs": [
    {
     "name": "stdout",
     "output_type": "stream",
     "text": [
      "[\"2014 LBJ Civil Rights Summit\", \"Community\"]\t[2, 1]\n",
      "[\"7 Cajas\", \"Spanish,Action,Suspense\"]\t[1, 3]\n",
      "[\"Adventures of Johnny Tao: Rock\", \"Action,Adventure,Martial arts\"]\t[1, 3]\n",
      "[\"Al Rojo Vivo\", \"Talk,Newsmagazine\"]\t[4, 2]\n",
      "[\"Alicia Menendez Tonight\", \"Talk,Politics\"]\t[1, 2]\n",
      "[\"Amor y Frijoles\", \"Spanish,Comedy-drama\"]\t[2, 2]\n",
      "[\"Antiques Roadshow: In Bismarck\", \"Collectibles,Community\"]\t[1, 2]\n",
      "[\"Aqu\\u00ed Nos Toc\\u00f3 Vivir\", \"Community,Travel\"]\t[1, 2]\n",
      "[\"Arizona Horizon\", \"Community\"]\t[6, 1]\n",
      "[\"Arizona Horizon\", \"Community,News\"]\t[19, 2]\n",
      "[\"Around the Corner With John McGivern\", \"Community\"]\t[2, 1]\n",
      "[\"Arquitectos de lo Imposible\", \"Community\"]\t[1, 1]\n",
      "[\"Art Basel Design District Magazine\", \"Community,Public affairs\"]\t[5, 2]\n",
      "[\"Big Morning Buzz Live\", \"Talk,Entertainment,News\"]\t[2, 3]\n",
      "[\"Blazing Saddles\", \"Spanish,Comedy,Western\"]\t[1, 3]\n",
      "[\"Check Please! Arizona\", \"Community\"]\t[2, 1]\n",
      "[\"Choque de Opiniones\", \"Talk,News,Debate\"]\t[3, 3]\n",
      "[\"Cilantro y Perejil\", \"Spanish,Romance-comedy\"]\t[1, 2]\n",
      "[\"Cool Jobs\", \"Community,Educational\"]\t[8, 2]\n",
      "[\"Coruj\\u00e3o do Esporte\", \"Sports non-event,Talk\"]\t[1, 2]\n",
      "[\"Crazy People\", \"Spanish,Comedy\"]\t[1, 2]\n",
      "[\"Crazy Talk\", \"Comedy,Talk\"]\t[30, 2]\n",
      "[\"Crimenes De Lujuria\", \"Spanish,Drama,Suspense\"]\t[1, 3]\n",
      "[\"Di\\u00e1logos en Confianza\", \"Talk\"]\t[1, 1]\n",
      "[\"Dos Mojados En Apuros\", \"Spanish,Comedy\"]\t[1, 2]\n",
      "[\"Dulces Navajas\", \"Spanish,Drama\"]\t[1, 2]\n",
      "[\"Duro y Parejo en la Casita del Pecado\", \"Spanish,Comedy\"]\t[1, 2]\n",
      "[\"Ek The Raja Ek Thi Rani\", \"Community\"]\t[4, 1]\n",
      "[\"El Baile de San Juan\", \"Spanish,Historical drama\"]\t[1, 2]\n",
      "[\"El Cuerpazo del Delito\", \"Spanish,Comedy-drama\"]\t[1, 2]\n",
      "[\"El Efecto Tequila\", \"Spanish,Comedy-drama\"]\t[1, 2]\n",
      "[\"El Esqueleto de la Se\\u00f1ora Morales\", \"Spanish,Comedy-drama\"]\t[1, 2]\n",
      "[\"El Joven Ju\\u00e1rez\", \"Spanish,Biography\"]\t[1, 2]\n",
      "[\"El Joven del Carrito\", \"Spanish,Comedy\"]\t[1, 2]\n",
      "[\"El Oreja Rajada\", \"Spanish,Drama\"]\t[1, 2]\n",
      "[\"El Palenque\", \"Talk\"]\t[1, 1]\n",
      "[\"El Rediezcubrimiento de M\\u00e9xico\", \"Spanish,Comedy-drama\"]\t[1, 2]\n",
      "[\"El Santos vs la Tetona Mendoza\", \"Spanish,Comedy,Animated\"]\t[1, 3]\n",
      "[\"El Santos vs. la T...a Mendoza\", \"Spanish,Comedy,Animated\"]\t[1, 3]\n",
      "[\"El Tejedor de Milagros\", \"Spanish,Drama\"]\t[1, 2]\n",
      "[\"El Tigre de Guanajuato\", \"Spanish,Adventure\"]\t[1, 2]\n",
      "[\"El Vizconde de Montecristo\", \"Spanish,Comedy\"]\t[1, 2]\n",
      "[\"El mejor\", \"Spanish,Drama\"]\t[1, 2]\n",
      "[\"Esos de P\\u00e9njamo\", \"Spanish,Drama\"]\t[1, 2]\n",
      "[\"Estrella Sin Luz\", \"Spanish,Drama\"]\t[1, 2]\n",
      "[\"Fallaste Coraz\\u00f3n\", \"Spanish,Drama\"]\t[1, 2]\n",
      "[\"Fashionably Late With Rachel Zoe\", \"Talk,Fashion\"]\t[1, 2]\n",
      "[\"Godzilla\", \"Spanish,Science fiction,Action,Adventure\"]\t[1, 4]\n",
      "[\"Hagit - Designer Jewelry\", \"Shopping,Talk\"]\t[1, 2]\n",
      "[\"Israel Tour June 2015\", \"Community\"]\t[5, 1]\n",
      "[\"Izrail' Plyus Predstavlyaet\", \"Community\"]\t[1, 1]\n",
      "[\"J. Edgar\", \"Spanish,Biography,Historical drama\"]\t[1, 3]\n",
      "[\"Jack Holt At The River\", \"Religious,Community\"]\t[1, 2]\n",
      "[\"Jade Warrior\", \"Spanish,Action,Adventure,Martial arts\"]\t[1, 4]\n",
      "[\"Jagged Edge\", \"Spanish,Crime drama\"]\t[1, 2]\n",
      "[\"Jayne Mansfield's Car\", \"Spanish,Drama\"]\t[1, 2]\n",
      "[\"Jeepers Creepers 2\", \"Spanish,Horror\"]\t[1, 2]\n",
      "[\"Jerry Springer\", \"Talk\"]\t[109, 1]\n",
      "[\"Jimmy Kimmel Live\", \"Talk,Comedy\"]\t[9, 2]\n",
      "[\"Jonathan Last on The Dadly Virtues\", \"Special,Talk\"]\t[1, 2]\n",
      "[\"Juan sin Miedo\", \"Spanish,Drama\"]\t[2, 2]\n",
      "[\"Judo Budapest Grand Prix 2014 Highlights\", \"Special,Sports non-event,Martial arts\"]\t[1, 3]\n",
      "[\"Justice With Judge Jeanine\", \"Talk,News\"]\t[4, 2]\n",
      "[\"La Maldici\\u00f3n de la Momia Azteca\", \"Spanish,Horror\"]\t[2, 2]\n",
      "[\"La Masacre de los P\\u00e9rez\", \"Spanish,Drama\"]\t[1, 2]\n",
      "[\"La Monja Alf\\u00e9rez\", \"Spanish,Drama\"]\t[1, 2]\n",
      "[\"La Otra Mujer\", \"Spanish,Drama\"]\t[1, 2]\n",
      "[\"La Oveja Negra\", \"Spanish,Drama\"]\t[1, 2]\n",
      "[\"La Vida Dif\\u00edcil de una Mujer F\\u00e1cil\", \"Spanish,Drama\"]\t[1, 2]\n",
      "[\"La visita que no toc\\u00f3 el timbre\", \"Spanish,Comedy\"]\t[1, 2]\n",
      "[\"Lamberto Quintero\", \"Spanish,Drama\"]\t[1, 2]\n",
      "[\"Last Week Tonight With John Oliver\", \"Talk,Comedy\"]\t[8, 2]\n",
      "[\"Last Week Tonight With John Oliver\", \"Talk,Comedy,Interview\"]\t[2, 3]\n",
      "[\"Late Night Joy\", \"Talk\"]\t[1, 1]\n",
      "[\"Lejos del Mundo\", \"Spanish,Suspense,Drama\"]\t[1, 3]\n",
      "[\"Life Today With James Robison\", \"Talk,Religious\"]\t[5, 2]\n",
      "[\"Liquidation Channel\", \"Community,Consumer\"]\t[12, 2]\n",
      "[\"Liquidation Channel\", \"Special,Community,Consumer\"]\t[1, 3]\n",
      "[\"Lo Azul del Cielo\", \"Spanish,Drama,Romance,Suspense\"]\t[1, 4]\n",
      "[\"Lo Mejor de Caso Cerrado\", \"Law,Reality,Talk\"]\t[1, 3]\n",
      "[\"Lo Mejor de la Madre Ang\\u00e9lica\", \"Talk,Religious\"]\t[15, 2]\n",
      "[\"Los Campeones Justicieros\", \"Spanish,Action\"]\t[1, 2]\n",
      "[\"Los Fern\\u00e1ndez de Peralvillo\", \"Spanish,Drama\"]\t[1, 2]\n",
      "[\"Los Hijos de Peralvillo\", \"Spanish,Drama\"]\t[1, 2]\n",
      "[\"Los Maistros: El D\\u00eda de la Santa Cruz\", \"Spanish,Comedy\"]\t[1, 2]\n",
      "[\"Los de Abajo\", \"Spanish,Historical drama\"]\t[1, 2]\n",
      "[\"M\\u00e1s Vale P\\u00e1jaro en Mano\", \"Spanish,Comedy\"]\t[1, 2]\n",
      "[\"MediaBuzz\", \"News,Talk,Public affairs,Politics\"]\t[2, 4]\n",
      "[\"Mejor Estar Solo\", \"Spanish,Comedy\"]\t[1, 2]\n",
      "[\"Mojados\", \"Spanish,Drama\"]\t[1, 2]\n",
      "[\"Mojoe\", \"Entertainment,Talk,Newsmagazine\"]\t[1, 3]\n",
      "[\"Music for Change: The Global Citizen\", \"Special,Music,Community\"]\t[1, 3]\n",
      "[\"Operaci\\u00f3n Jaque\", \"Spanish,Drama\"]\t[1, 2]\n",
      "[\"Para Usted, Jefa\", \"Spanish,Drama\"]\t[1, 2]\n",
      "[\"Programa do J\\u00f4\", \"Talk,Interview\"]\t[12, 2]\n",
      "[\"Q & A\", \"News,Talk,Interview\"]\t[1, 3]\n",
      "[\"Q\", \"Talk,Entertainment,Variety\"]\t[2, 3]\n",
      "[\"Quadriga - The International Talk Show\", \"Talk,Public affairs,Newsmagazine\"]\t[1, 3]\n",
      "[\"Rosario Tijeras\", \"Spanish,Crime drama,Romance\"]\t[1, 3]\n",
      "[\"Santo y Mantequilla N\\u00e1poles\", \"Spanish,Action\"]\t[1, 2]\n",
      "[\"Serpiente Azteca\", \"Spanish,Drama\"]\t[1, 2]\n",
      "[\"Soy el Hijo del Tah\\u00far\", \"Spanish,Action,Drama\"]\t[1, 3]\n",
      "[\"St. Joe Live Presents\", \"Community\"]\t[1, 1]\n",
      "[\"State of Mine: Jim Hunt Story\", \"Special,Community\"]\t[1, 2]\n",
      "[\"The Daily Show With Jon Stewart\", \"Talk,Interview,Comedy\"]\t[11, 3]\n",
      "[\"The Dr. Oz Show\", \"Talk,Health\"]\t[94, 2]\n",
      "[\"The Gossip Queens\", \"Talk,Entertainment\"]\t[1, 2]\n",
      "[\"The Hundred-Foot Journey\", \"Spanish,Comedy-drama\"]\t[1, 2]\n",
      "[\"The Josh Wolf Show\", \"Talk,Comedy\"]\t[3, 2]\n",
      "[\"The Late Late Show With James Corden\", \"Talk,Comedy\"]\t[52, 2]\n",
      "[\"The Queen Latifah Show\", \"Talk,Variety\"]\t[48, 2]\n",
      "[\"The Quest\", \"Spanish,Action\"]\t[1, 2]\n",
      "[\"The Tonight Show Starring Jimmy Fallon\", \"Talk,Comedy\"]\t[9, 2]\n",
      "[\"Todo Lo Que T\\u00fa Quieras\", \"Spanish,Drama\"]\t[1, 2]\n",
      "[\"Town Square\", \"Community\"]\t[1, 1]\n",
      "[\"Un Balazo para Quintana\", \"Spanish,Action\"]\t[1, 2]\n",
      "[\"Una Mujer Para los S\\u00e1bados\", \"Spanish,Drama\"]\t[1, 2]\n",
      "[\"Una Mujer Sin Amor\", \"Spanish,Drama\"]\t[1, 2]\n",
      "[\"Viaje Redondo\", \"Spanish,Drama\"]\t[1, 2]\n",
      "[\"WLJC Spring Telethon\", \"Special,Community\"]\t[1, 2]\n",
      "[\"Walking Tall: Lone Justice\", \"Spanish,Action\"]\t[1, 2]\n",
      "[\"What Would Julieanna Do?\", \"Talk,Cooking\"]\t[1, 2]\n",
      "[\"\\u00bfQui\\u00e9n Paga la Cuenta?\", \"Spanish,Comedy\"]\t[1, 2]\n",
      "[\"q\", \"Talk,Entertainment,Variety\"]\t[8, 3]\n"
     ]
    },
    {
     "name": "stderr",
     "output_type": "stream",
     "text": [
      "No configs found; falling back on auto-configuration\n",
      "No configs specified for inline runner\n",
      "Creating temp directory C:\\Users\\snika\\AppData\\Local\\Temp\\hw1_mr_336472261_342588589.snika.20230512.162935.355915\n",
      "Running step 1 of 1...\n",
      "job output is in C:\\Users\\snika\\AppData\\Local\\Temp\\hw1_mr_336472261_342588589.snika.20230512.162935.355915\\output\n",
      "Streaming final output from C:\\Users\\snika\\AppData\\Local\\Temp\\hw1_mr_336472261_342588589.snika.20230512.162935.355915\\output...\n",
      "Removing temp directory C:\\Users\\snika\\AppData\\Local\\Temp\\hw1_mr_336472261_342588589.snika.20230512.162935.355915...\n"
     ]
    }
   ],
   "source": [
    "! python ./hw1_mr_336472261_342588589.py ./500k_daily_prog_data.csv"
   ],
   "metadata": {
    "collapsed": false
   }
  },
  {
   "cell_type": "code",
   "execution_count": null,
   "outputs": [],
   "source": [],
   "metadata": {
    "collapsed": false
   }
  }
 ],
 "metadata": {
  "kernelspec": {
   "display_name": "Python 3",
   "language": "python",
   "name": "python3"
  },
  "language_info": {
   "codemirror_mode": {
    "name": "ipython",
    "version": 2
   },
   "file_extension": ".py",
   "mimetype": "text/x-python",
   "name": "python",
   "nbconvert_exporter": "python",
   "pygments_lexer": "ipython2",
   "version": "2.7.6"
  }
 },
 "nbformat": 4,
 "nbformat_minor": 0
}
